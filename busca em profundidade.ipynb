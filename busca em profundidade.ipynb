{
 "cells": [
  {
   "cell_type": "code",
   "execution_count": null,
   "id": "7dcc4d54",
   "metadata": {},
   "outputs": [],
   "source": [
    "#Criação das funções de busca em profundidade e dos comprimentos das listas\n",
    "def lista_comprimentos(matriz):\n",
    "    lista = []\n",
    "    for linha in range(len(matriz)):\n",
    "        for coluna in range(len(matriz[0])):\n",
    "            if matriz[linha][coluna] == 1:\n",
    "                lista.append(busca_profundidade(matriz, linha, coluna))\n",
    "    return lista\n",
    "\n",
    "\n",
    "def busca_profundidade(matriz, linha, coluna):\n",
    "    if linha<0 or coluna<0 or linha>(len(matriz)-1) or coluna>(len(matriz[0])-1) or (matriz[linha][coluna] == 0):\n",
    "        return 0\n",
    "\n",
    "    cont = 1\n",
    "    \n",
    "    for i in range(linha-1, linha+2):\n",
    "        matriz[linha][coluna] = 0\n",
    "        for x in range(coluna-1, coluna+2):\n",
    "            if i == linha or x == coluna+2:\n",
    "                cont += busca_profundidade(matriz, i, x)\n",
    "            elif i == linha + 2 or x == coluna:\n",
    "                cont += busca_profundidade(matriz, i, x)\n",
    "    return cont"
   ]
  },
  {
   "cell_type": "code",
   "execution_count": null,
   "id": "88a3824e",
   "metadata": {},
   "outputs": [],
   "source": [
    "#Criação aleatória de uma matriz de \"0\" e \"1\"\n",
    "import random\n",
    "linhas = 6\n",
    "colunas = 6\n",
    "if linhas > 0 and colunas > 0:\n",
    "    matriz = []\n",
    "    for i in range(linhas):\n",
    "        linha = []\n",
    "        for j in range(colunas):\n",
    "            numero = random.randint(0,1)\n",
    "            linha.append(numero)\n",
    "        matriz.append(linha)\n",
    "matriz"
   ]
  },
  {
   "cell_type": "code",
   "execution_count": null,
   "id": "a21c5c1a",
   "metadata": {},
   "outputs": [],
   "source": [
    "lista_comprimentos(matriz)"
   ]
  }
 ],
 "metadata": {
  "kernelspec": {
   "display_name": "Python 3 (ipykernel)",
   "language": "python",
   "name": "python3"
  },
  "language_info": {
   "codemirror_mode": {
    "name": "ipython",
    "version": 3
   },
   "file_extension": ".py",
   "mimetype": "text/x-python",
   "name": "python",
   "nbconvert_exporter": "python",
   "pygments_lexer": "ipython3",
   "version": "3.10.1"
  }
 },
 "nbformat": 4,
 "nbformat_minor": 5
}
